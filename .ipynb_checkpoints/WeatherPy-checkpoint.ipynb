{
 "cells": [
  {
   "cell_type": "markdown",
   "metadata": {},
   "source": [
    "# WeatherPy\n",
    "----\n",
    "\n",
    "#### Note\n",
    "* Instructions have been included for each segment. You do not have to follow them exactly, but they are included to help you think through the steps."
   ]
  },
  {
   "cell_type": "markdown",
   "metadata": {},
   "source": [
    "1. There is no relationship between latitude and cloudiness.\n",
    "2. There is a strong negative relationshop between latitude and temperature in Northern Hemsipere and a moderate positive relationship between latitude and temperature in Southern Hemsipere.\n",
    "3. There is a weak positive relationshop between latitude and wind speed in Northern Hemsipere and a weak negative relationship between latitude and wind speed in Southern Hemsipere.\n"
   ]
  },
  {
   "cell_type": "code",
   "execution_count": 1,
   "metadata": {
    "scrolled": true
   },
   "outputs": [],
   "source": [
    "# Dependencies and Setup\n",
    "import matplotlib.pyplot as plt\n",
    "import pandas as pd\n",
    "import numpy as np\n",
    "import requests\n",
    "import time\n",
    "import json\n",
    "from scipy.stats import linregress\n",
    "from scipy import stats\n",
    "\n",
    "\n",
    "# Import API key\n",
    "from api_keys import weather_api_key\n",
    "\n",
    "# Incorporated citipy to determine city based on latitude and longitude\n",
    "from citipy import citipy\n",
    "\n",
    "# Output File (CSV)\n",
    "output_data_file = \"/output_data/cities.csv\"\n",
    "\n",
    "units = \"imperial\"\n",
    "# Range of latitudes and longitudes\n",
    "lat_range = (-90, 90)\n",
    "lng_range = (-180, 180)\n"
   ]
  },
  {
   "cell_type": "markdown",
   "metadata": {},
   "source": [
    "## Generate Cities List"
   ]
  },
  {
   "cell_type": "code",
   "execution_count": 2,
   "metadata": {},
   "outputs": [
    {
     "data": {
      "text/plain": [
       "653"
      ]
     },
     "execution_count": 2,
     "metadata": {},
     "output_type": "execute_result"
    }
   ],
   "source": [
    "# List for holding lat_lngs and cities\n",
    "lat_lngs = []\n",
    "cities = []\n",
    "countries =[]\n",
    "# Create a set of random lat and lng combinations\n",
    "lats = np.random.uniform(low=-90.000, high=90.000, size=1500)\n",
    "lngs = np.random.uniform(low=-180.000, high=180.000, size=1500)\n",
    "lat_lngs = zip(lats, lngs)\n",
    "\n",
    "# Identify nearest city for each lat, lng combination\n",
    "for lat_lng in lat_lngs:\n",
    "    city = citipy.nearest_city(lat_lng[0], lat_lng[1]).city_name\n",
    "   \n",
    "    # If the city is unique, then add it to a our cities list\n",
    "    if city not in cities:\n",
    "        cities.append(city)\n",
    "        \n",
    "# Print the city count to confirm sufficient count\n",
    "len(cities)\n"
   ]
  },
  {
   "cell_type": "code",
   "execution_count": 3,
   "metadata": {
    "scrolled": true
   },
   "outputs": [
    {
     "data": {
      "text/html": [
       "<div>\n",
       "<style scoped>\n",
       "    .dataframe tbody tr th:only-of-type {\n",
       "        vertical-align: middle;\n",
       "    }\n",
       "\n",
       "    .dataframe tbody tr th {\n",
       "        vertical-align: top;\n",
       "    }\n",
       "\n",
       "    .dataframe thead th {\n",
       "        text-align: right;\n",
       "    }\n",
       "</style>\n",
       "<table border=\"1\" class=\"dataframe\">\n",
       "  <thead>\n",
       "    <tr style=\"text-align: right;\">\n",
       "      <th></th>\n",
       "      <th>City</th>\n",
       "      <th>Country</th>\n",
       "      <th>Cloudiness</th>\n",
       "      <th>Date</th>\n",
       "      <th>Humidity</th>\n",
       "      <th>Lat</th>\n",
       "      <th>Lng</th>\n",
       "      <th>Max Temp</th>\n",
       "      <th>Windspeed</th>\n",
       "    </tr>\n",
       "  </thead>\n",
       "  <tbody>\n",
       "    <tr>\n",
       "      <td>0</td>\n",
       "      <td>mataura</td>\n",
       "      <td></td>\n",
       "      <td></td>\n",
       "      <td></td>\n",
       "      <td></td>\n",
       "      <td></td>\n",
       "      <td></td>\n",
       "      <td></td>\n",
       "      <td></td>\n",
       "    </tr>\n",
       "    <tr>\n",
       "      <td>1</td>\n",
       "      <td>surt</td>\n",
       "      <td></td>\n",
       "      <td></td>\n",
       "      <td></td>\n",
       "      <td></td>\n",
       "      <td></td>\n",
       "      <td></td>\n",
       "      <td></td>\n",
       "      <td></td>\n",
       "    </tr>\n",
       "    <tr>\n",
       "      <td>2</td>\n",
       "      <td>cidreira</td>\n",
       "      <td></td>\n",
       "      <td></td>\n",
       "      <td></td>\n",
       "      <td></td>\n",
       "      <td></td>\n",
       "      <td></td>\n",
       "      <td></td>\n",
       "      <td></td>\n",
       "    </tr>\n",
       "    <tr>\n",
       "      <td>3</td>\n",
       "      <td>punta arenas</td>\n",
       "      <td></td>\n",
       "      <td></td>\n",
       "      <td></td>\n",
       "      <td></td>\n",
       "      <td></td>\n",
       "      <td></td>\n",
       "      <td></td>\n",
       "      <td></td>\n",
       "    </tr>\n",
       "    <tr>\n",
       "      <td>4</td>\n",
       "      <td>bluff</td>\n",
       "      <td></td>\n",
       "      <td></td>\n",
       "      <td></td>\n",
       "      <td></td>\n",
       "      <td></td>\n",
       "      <td></td>\n",
       "      <td></td>\n",
       "      <td></td>\n",
       "    </tr>\n",
       "  </tbody>\n",
       "</table>\n",
       "</div>"
      ],
      "text/plain": [
       "           City Country Cloudiness Date Humidity Lat Lng Max Temp Windspeed\n",
       "0       mataura                                                            \n",
       "1          surt                                                            \n",
       "2      cidreira                                                            \n",
       "3  punta arenas                                                            \n",
       "4         bluff                                                            "
      ]
     },
     "execution_count": 3,
     "metadata": {},
     "output_type": "execute_result"
    }
   ],
   "source": [
    "city_weather = pd.DataFrame({'City': cities, 'Country': \"\", 'Cloudiness': \"\", 'Date': \"\",\n",
    "                            'Humidity': \"\", 'Lat': \"\", 'Lng': \"\", 'Max Temp': \"\", 'Windspeed': \"\"})\n",
    "\n",
    "city_weather.head()\n"
   ]
  },
  {
   "cell_type": "code",
   "execution_count": null,
   "metadata": {},
   "outputs": [],
   "source": []
  },
  {
   "cell_type": "markdown",
   "metadata": {},
   "source": [
    "### Perform API Calls\n",
    "* Perform a weather check on each city using a series of successive API calls.\n",
    "* Include a print log of each city as it'sbeing processed (with the city number and city name).\n"
   ]
  },
  {
   "cell_type": "code",
   "execution_count": null,
   "metadata": {},
   "outputs": [],
   "source": []
  },
  {
   "cell_type": "code",
   "execution_count": 4,
   "metadata": {},
   "outputs": [
    {
     "name": "stdout",
     "output_type": "stream",
     "text": [
      "\n",
      "-----------------------------\n",
      "Beginning Data Retrieval\n",
      "-----------------------------\n",
      "Processing for Record 1 of Set 1 | Mataura\n",
      "Processing for Record 2 of Set 1 | Sirte\n",
      "Processing for Record 3 of Set 1 | Cidreira\n",
      "Processing for Record 4 of Set 1 | Punta Arenas\n",
      "Processing for Record 5 of Set 1 | Bluff\n",
      "Processing for Record 6 of Set 1 | Saint George\n",
      "Processing for Record 7 of Set 1 | Narsaq\n",
      "Processing for Record 8 of Set 1 | Zhanakorgan\n",
      "Processing for Record 9 of Set 1 | Kapaa\n",
      "Processing for Record 10 of Set 1 | Mumford\n",
      "Processing for Record 11 of Set 1 | Aklavik\n",
      "Processing for Record 12 of Set 1 | Thompson\n",
      "Processing for Record 13 of Set 1 | Ushuaia\n",
      "Processing for Record 14 of Set 1 | Quimper\n",
      "Processing for Record 15 of Set 1 | Bredasdorp\n",
      "Processing for Record 16 of Set 1 | Broken Hill\n",
      "City not found. Skipping...\n",
      "Processing for Record 17 of Set 1 | Verkhnyaya Inta\n",
      "Processing for Record 18 of Set 1 | Yārāda\n",
      "Processing for Record 19 of Set 1 | Saint-Philippe\n",
      "Processing for Record 20 of Set 1 | Khatanga\n",
      "Processing for Record 21 of Set 1 | Nísia Floresta\n",
      "Processing for Record 22 of Set 1 | Constantine\n",
      "Processing for Record 23 of Set 1 | Kieta\n",
      "Processing for Record 24 of Set 1 | Kajaani\n",
      "Processing for Record 25 of Set 1 | Mastic Beach\n",
      "Processing for Record 26 of Set 1 | Constitución\n",
      "Processing for Record 27 of Set 1 | Hamilton\n",
      "Processing for Record 28 of Set 1 | Qaanaaq\n",
      "Processing for Record 29 of Set 1 | Severo-Kuril'sk\n",
      "Processing for Record 30 of Set 1 | Albany\n",
      "Processing for Record 31 of Set 1 | Fortuna\n",
      "City not found. Skipping...\n",
      "Processing for Record 32 of Set 1 | Horsham\n",
      "Processing for Record 33 of Set 1 | George Town\n",
      "Processing for Record 34 of Set 1 | Norman Wells\n",
      "Processing for Record 35 of Set 1 | Dhidhdhoo\n",
      "Processing for Record 36 of Set 1 | Barrow\n",
      "Processing for Record 37 of Set 1 | Torbay\n",
      "Processing for Record 38 of Set 1 | Puerto Ayora\n",
      "Processing for Record 39 of Set 1 | Rawson\n",
      "Processing for Record 40 of Set 1 | Marawi\n",
      "Processing for Record 41 of Set 1 | Hobyo\n",
      "Processing for Record 42 of Set 1 | Viedma\n",
      "Processing for Record 43 of Set 1 | Nurlat\n",
      "Processing for Record 44 of Set 1 | Port Alfred\n",
      "Processing for Record 45 of Set 1 | Pauini\n",
      "Processing for Record 46 of Set 1 | Griffith\n",
      "Processing for Record 47 of Set 1 | Zhigansk\n",
      "Processing for Record 48 of Set 1 | Yellowknife\n",
      "Processing for Record 49 of Set 1 | Kargasok\n",
      "Processing for Record 50 of Set 1 | Upernavik\n",
      "Processing for Record 1 of Set 2 | East London\n",
      "Processing for Record 2 of Set 2 | Coyhaique\n",
      "Processing for Record 3 of Set 2 | Weiser\n",
      "Processing for Record 4 of Set 2 | Pacific Grove\n",
      "Processing for Record 5 of Set 2 | Burnie\n",
      "Processing for Record 6 of Set 2 | Marsh Harbour\n",
      "Processing for Record 7 of Set 2 | Jamestown\n",
      "Processing for Record 8 of Set 2 | Kozhva\n",
      "Processing for Record 9 of Set 2 | Vaini\n",
      "City not found. Skipping...\n",
      "Processing for Record 10 of Set 2 | Butaritari\n",
      "Processing for Record 11 of Set 2 | Tiksi\n",
      "Processing for Record 12 of Set 2 | Willmar\n",
      "Processing for Record 13 of Set 2 | Saint Paul Harbor\n",
      "Processing for Record 14 of Set 2 | Bengkulu\n",
      "Processing for Record 15 of Set 2 | Atuona\n",
      "City not found. Skipping...\n",
      "Processing for Record 16 of Set 2 | São Filipe\n",
      "Processing for Record 17 of Set 2 | Broome\n",
      "Processing for Record 18 of Set 2 | Portland\n",
      "Processing for Record 19 of Set 2 | Mildura\n",
      "Processing for Record 20 of Set 2 | Comodoro Rivadavia\n",
      "Processing for Record 21 of Set 2 | Healesville\n",
      "Processing for Record 22 of Set 2 | Kavaratti\n",
      "City not found. Skipping...\n",
      "City not found. Skipping...\n",
      "City not found. Skipping...\n",
      "Processing for Record 23 of Set 2 | Araouane\n",
      "Processing for Record 24 of Set 2 | Saskylakh\n",
      "Processing for Record 25 of Set 2 | Olafsvik\n",
      "Processing for Record 26 of Set 2 | Anadyr\n",
      "Processing for Record 27 of Set 2 | New Norfolk\n",
      "Processing for Record 28 of Set 2 | Tegul'det\n",
      "Processing for Record 29 of Set 2 | Busselton\n",
      "Processing for Record 30 of Set 2 | Flinders\n",
      "Processing for Record 31 of Set 2 | Marovoay\n",
      "Processing for Record 32 of Set 2 | Tual\n",
      "City not found. Skipping...\n",
      "Processing for Record 33 of Set 2 | Nālūt\n",
      "Processing for Record 34 of Set 2 | Raudeberg\n",
      "City not found. Skipping...\n",
      "Processing for Record 35 of Set 2 | Poya\n",
      "Processing for Record 36 of Set 2 | Kayes\n",
      "Processing for Record 37 of Set 2 | Hithadhoo\n",
      "Processing for Record 38 of Set 2 | Cabo San Lucas\n",
      "Processing for Record 39 of Set 2 | Jijiga\n",
      "Processing for Record 40 of Set 2 | Wakema\n",
      "Processing for Record 41 of Set 2 | Little Elm\n",
      "Processing for Record 42 of Set 2 | Pangnirtung\n",
      "Processing for Record 43 of Set 2 | Berlevåg\n",
      "City not found. Skipping...\n",
      "Processing for Record 44 of Set 2 | Taunggyi\n",
      "Processing for Record 45 of Set 2 | Tateyama\n",
      "City not found. Skipping...\n",
      "Processing for Record 46 of Set 2 | Okha\n",
      "Processing for Record 47 of Set 2 | Arraial do Cabo\n",
      "Processing for Record 48 of Set 2 | Isiro\n",
      "Processing for Record 49 of Set 2 | Makokou\n",
      "Processing for Record 50 of Set 2 | Tasiilaq\n",
      "Processing for Record 1 of Set 3 | Vila Velha\n",
      "Processing for Record 2 of Set 3 | Kralendijk\n",
      "Processing for Record 3 of Set 3 | Moanda\n",
      "Processing for Record 4 of Set 3 | Hobart\n",
      "Processing for Record 5 of Set 3 | St. George's\n",
      "Processing for Record 6 of Set 3 | Mossamedes\n",
      "City not found. Skipping...\n",
      "Processing for Record 7 of Set 3 | Vaitape\n",
      "Processing for Record 8 of Set 3 | Touros\n",
      "Processing for Record 9 of Set 3 | Ouango\n",
      "Processing for Record 10 of Set 3 | Rikitea\n",
      "Processing for Record 11 of Set 3 | Beyneu\n",
      "Processing for Record 12 of Set 3 | Ilulissat\n",
      "Processing for Record 13 of Set 3 | Socorro\n",
      "Processing for Record 14 of Set 3 | Half Moon Bay\n",
      "City not found. Skipping...\n",
      "Processing for Record 15 of Set 3 | Lakes Entrance\n",
      "Processing for Record 16 of Set 3 | Clyde River\n",
      "Processing for Record 17 of Set 3 | Lüderitz\n",
      "Processing for Record 18 of Set 3 | Abu Dhabi\n",
      "City not found. Skipping...\n",
      "Processing for Record 19 of Set 3 | Kruisfontein\n",
      "Processing for Record 20 of Set 3 | Kununurra\n",
      "Processing for Record 21 of Set 3 | Ketchikan\n",
      "Processing for Record 22 of Set 3 | Port Elizabeth\n",
      "Processing for Record 23 of Set 3 | Diffa\n",
      "Processing for Record 24 of Set 3 | Haines Junction\n",
      "Processing for Record 25 of Set 3 | Nikolskoye\n",
      "Processing for Record 26 of Set 3 | Chul'man\n",
      "Processing for Record 27 of Set 3 | Yuanping\n",
      "Processing for Record 28 of Set 3 | Killybegs\n",
      "Processing for Record 29 of Set 3 | Makakilo City\n",
      "Processing for Record 30 of Set 3 | Hilo\n",
      "Processing for Record 31 of Set 3 | Dankaur\n",
      "Processing for Record 32 of Set 3 | Darhan\n",
      "Processing for Record 33 of Set 3 | Shimoda\n",
      "Processing for Record 34 of Set 3 | Avarua\n",
      "Processing for Record 35 of Set 3 | Pevek\n",
      "Processing for Record 36 of Set 3 | Barão de Melgaço\n",
      "Processing for Record 37 of Set 3 | Bethel\n",
      "Processing for Record 38 of Set 3 | Baykit\n",
      "Processing for Record 39 of Set 3 | Amapá\n",
      "Processing for Record 40 of Set 3 | Mar del Plata\n",
      "Processing for Record 41 of Set 3 | San Policarpo\n",
      "Processing for Record 42 of Set 3 | Palembang\n",
      "Processing for Record 43 of Set 3 | Cururupu\n",
      "Processing for Record 44 of Set 3 | Sørland\n",
      "Processing for Record 45 of Set 3 | Bambous Virieux\n",
      "Processing for Record 46 of Set 3 | Ahipara\n",
      "Processing for Record 47 of Set 3 | Kudahuvadhoo\n",
      "Processing for Record 48 of Set 3 | Taketa\n",
      "Processing for Record 49 of Set 3 | Senno\n",
      "Processing for Record 50 of Set 3 | Castro\n",
      "Processing for Record 1 of Set 4 | Mae Chan\n",
      "Processing for Record 2 of Set 4 | Shenzhen\n",
      "Processing for Record 3 of Set 4 | Fayaoué\n",
      "Processing for Record 4 of Set 4 | Udachny\n",
      "Processing for Record 5 of Set 4 | Murgab\n",
      "Processing for Record 6 of Set 4 | Falmouth\n",
      "City not found. Skipping...\n",
      "Processing for Record 7 of Set 4 | Caravelas\n",
      "Processing for Record 8 of Set 4 | Chui\n",
      "Processing for Record 9 of Set 4 | Vestmannaeyjar\n",
      "Processing for Record 10 of Set 4 | Provideniya\n",
      "Processing for Record 11 of Set 4 | Rabo de Peixe\n",
      "Processing for Record 12 of Set 4 | Minot\n",
      "Processing for Record 13 of Set 4 | Tuatapere\n",
      "Processing for Record 14 of Set 4 | Yarkovo\n",
      "City not found. Skipping...\n",
      "Processing for Record 15 of Set 4 | Meulaboh\n",
      "Processing for Record 16 of Set 4 | Châlons-en-Champagne\n",
      "Processing for Record 17 of Set 4 | Morden\n",
      "Processing for Record 18 of Set 4 | Dunedin\n",
      "Processing for Record 19 of Set 4 | Songjianghe\n"
     ]
    },
    {
     "name": "stdout",
     "output_type": "stream",
     "text": [
      "Processing for Record 20 of Set 4 | Cookeville\n",
      "Processing for Record 21 of Set 4 | Ancud\n",
      "Processing for Record 22 of Set 4 | Ust-Tsilma\n",
      "Processing for Record 23 of Set 4 | Laramie\n",
      "Processing for Record 24 of Set 4 | The Valley\n",
      "Processing for Record 25 of Set 4 | Mata\n",
      "Processing for Record 26 of Set 4 | Hermanus\n",
      "Processing for Record 27 of Set 4 | Neiafu\n",
      "Processing for Record 28 of Set 4 | Airai\n",
      "Processing for Record 29 of Set 4 | Dikson\n",
      "City not found. Skipping...\n",
      "Processing for Record 30 of Set 4 | Ngunguru\n",
      "Processing for Record 31 of Set 4 | Byron Bay\n",
      "Processing for Record 32 of Set 4 | Leningradskiy\n",
      "Processing for Record 33 of Set 4 | Korem\n",
      "Processing for Record 34 of Set 4 | Rio Grande\n",
      "Processing for Record 35 of Set 4 | Melo\n",
      "Processing for Record 36 of Set 4 | Borovoy\n",
      "Processing for Record 37 of Set 4 | San Quintín\n",
      "Processing for Record 38 of Set 4 | Laguna\n",
      "Processing for Record 39 of Set 4 | Orange Walk District\n",
      "Processing for Record 40 of Set 4 | Ranong\n",
      "Processing for Record 41 of Set 4 | Mahébourg\n",
      "Processing for Record 42 of Set 4 | Sioux Lookout\n",
      "Processing for Record 43 of Set 4 | Mathbaria\n",
      "Processing for Record 44 of Set 4 | Palmer\n",
      "Processing for Record 45 of Set 4 | Champerico\n",
      "Processing for Record 46 of Set 4 | Makassar\n",
      "Processing for Record 47 of Set 4 | Harper\n",
      "Processing for Record 48 of Set 4 | Hong Kong\n",
      "Processing for Record 49 of Set 4 | Gutiérrez\n",
      "Processing for Record 50 of Set 4 | Juba\n",
      "Processing for Record 1 of Set 5 | Hammerfest\n",
      "Processing for Record 2 of Set 5 | Knysna\n",
      "Processing for Record 3 of Set 5 | Grand Gaube\n",
      "Processing for Record 4 of Set 5 | Nuevo Progreso\n",
      "Processing for Record 5 of Set 5 | Chokurdakh\n",
      "Processing for Record 6 of Set 5 | Oranjemund\n",
      "Processing for Record 7 of Set 5 | Luangwa\n",
      "Processing for Record 8 of Set 5 | Cape Town\n",
      "City not found. Skipping...\n",
      "Processing for Record 9 of Set 5 | Tahoua\n",
      "Processing for Record 10 of Set 5 | Kolomak\n",
      "Processing for Record 11 of Set 5 | Boffa\n",
      "Processing for Record 12 of Set 5 | Varkaus\n",
      "Processing for Record 13 of Set 5 | Vila\n",
      "Processing for Record 14 of Set 5 | Kiama\n",
      "City not found. Skipping...\n",
      "Processing for Record 15 of Set 5 | Kongolo\n",
      "Processing for Record 16 of Set 5 | Praia da Vitória\n",
      "Processing for Record 17 of Set 5 | Cayenne\n",
      "Processing for Record 18 of Set 5 | San Luis\n",
      "Processing for Record 19 of Set 5 | Esperance\n",
      "Processing for Record 20 of Set 5 | Kaitangata\n",
      "Processing for Record 21 of Set 5 | Mabaruma\n",
      "Processing for Record 22 of Set 5 | Tura\n",
      "Processing for Record 23 of Set 5 | Yumen\n",
      "City not found. Skipping...\n",
      "Processing for Record 24 of Set 5 | Upington\n",
      "City not found. Skipping...\n",
      "Processing for Record 25 of Set 5 | Ostrovnoy\n",
      "Processing for Record 26 of Set 5 | Noumea\n",
      "Processing for Record 27 of Set 5 | Tigil'\n",
      "Processing for Record 28 of Set 5 | Kwang Binh\n",
      "City not found. Skipping...\n",
      "Processing for Record 29 of Set 5 | Innisfail\n",
      "Processing for Record 30 of Set 5 | Tamiahua\n",
      "Processing for Record 31 of Set 5 | Lebu\n",
      "Processing for Record 32 of Set 5 | Saint Anthony\n",
      "City not found. Skipping...\n",
      "Processing for Record 33 of Set 5 | Villa Bruzual\n",
      "Processing for Record 34 of Set 5 | Batagay-Alyta\n",
      "Processing for Record 35 of Set 5 | Vostok\n",
      "Processing for Record 36 of Set 5 | Lewiston\n",
      "Processing for Record 37 of Set 5 | Bloomingdale\n",
      "Processing for Record 38 of Set 5 | Tjøme\n",
      "Processing for Record 39 of Set 5 | Béré\n",
      "Processing for Record 40 of Set 5 | Goderich\n",
      "Processing for Record 41 of Set 5 | Kalevala\n",
      "Processing for Record 42 of Set 5 | Vanavara\n",
      "Processing for Record 43 of Set 5 | Dubrovytsya\n",
      "Processing for Record 44 of Set 5 | Kota Belud\n",
      "Processing for Record 45 of Set 5 | Meghri\n",
      "Processing for Record 46 of Set 5 | Carnarvon\n",
      "Processing for Record 47 of Set 5 | Necochea\n",
      "Processing for Record 48 of Set 5 | Meïganga\n",
      "Processing for Record 49 of Set 5 | Ha Giang\n",
      "Processing for Record 50 of Set 5 | Kharp\n",
      "Processing for Record 1 of Set 6 | Sarkand\n",
      "Processing for Record 2 of Set 6 | Tahara\n",
      "Processing for Record 3 of Set 6 | Staryy Nadym\n",
      "Processing for Record 4 of Set 6 | Kuusamo\n",
      "Processing for Record 5 of Set 6 | Chapada dos Guimarães\n",
      "Processing for Record 6 of Set 6 | Esperanza\n",
      "Processing for Record 7 of Set 6 | Alofi\n",
      "Processing for Record 8 of Set 6 | Kodinsk\n",
      "City not found. Skipping...\n",
      "Processing for Record 9 of Set 6 | Vodnyy\n",
      "Processing for Record 10 of Set 6 | Dingle\n",
      "Processing for Record 11 of Set 6 | Korla\n",
      "Processing for Record 12 of Set 6 | Urubichá\n",
      "Processing for Record 13 of Set 6 | Tommot\n",
      "Processing for Record 14 of Set 6 | Taoudenni\n",
      "Processing for Record 15 of Set 6 | Marquette\n",
      "City not found. Skipping...\n",
      "Processing for Record 16 of Set 6 | Sungai Raya\n",
      "Processing for Record 17 of Set 6 | Realeza\n",
      "Processing for Record 18 of Set 6 | Mvuma\n",
      "Processing for Record 19 of Set 6 | Gravdal\n",
      "Processing for Record 20 of Set 6 | Kifrī\n",
      "Processing for Record 21 of Set 6 | Nuuk\n",
      "Processing for Record 22 of Set 6 | Walvis Bay\n",
      "Processing for Record 23 of Set 6 | Faya\n",
      "City not found. Skipping...\n",
      "Processing for Record 24 of Set 6 | Kahului\n",
      "Processing for Record 25 of Set 6 | Mount Isa\n",
      "Processing for Record 26 of Set 6 | Morgan City\n",
      "Processing for Record 27 of Set 6 | Tautira\n",
      "Processing for Record 28 of Set 6 | Stornoway\n",
      "Processing for Record 29 of Set 6 | Kokkola\n",
      "Processing for Record 30 of Set 6 | Warwick\n",
      "City not found. Skipping...\n",
      "Processing for Record 31 of Set 6 | Auburn\n",
      "Processing for Record 32 of Set 6 | Kindu\n",
      "Processing for Record 33 of Set 6 | Crotone\n",
      "Processing for Record 34 of Set 6 | Lata\n",
      "Processing for Record 35 of Set 6 | Adrar\n",
      "Processing for Record 36 of Set 6 | Bethanien\n",
      "Processing for Record 37 of Set 6 | Bambari\n",
      "Processing for Record 38 of Set 6 | Coquimbo\n",
      "Processing for Record 39 of Set 6 | Pecos\n",
      "Processing for Record 40 of Set 6 | Ribeira Grande\n",
      "Processing for Record 41 of Set 6 | Iwanai\n",
      "Processing for Record 42 of Set 6 | Puerto Escondido\n",
      "Processing for Record 43 of Set 6 | Chimbote\n",
      "Processing for Record 44 of Set 6 | Kimbe\n",
      "Processing for Record 45 of Set 6 | Ibrā’\n",
      "Processing for Record 46 of Set 6 | Bariloche\n",
      "City not found. Skipping...\n",
      "Processing for Record 47 of Set 6 | Nerchinskiy Zavod\n",
      "City not found. Skipping...\n",
      "Processing for Record 48 of Set 6 | Huarmey\n",
      "Processing for Record 49 of Set 6 | Menongue\n",
      "Processing for Record 50 of Set 6 | Faanui\n",
      "Processing for Record 1 of Set 7 | Lethem\n",
      "Processing for Record 2 of Set 7 | Manjacaze\n",
      "Processing for Record 3 of Set 7 | Kidero\n",
      "Processing for Record 4 of Set 7 | Geraldton\n",
      "Processing for Record 5 of Set 7 | Zabul Province\n",
      "Processing for Record 6 of Set 7 | Acarí\n",
      "Processing for Record 7 of Set 7 | Najrān\n",
      "Processing for Record 8 of Set 7 | Vychegodskiy\n",
      "Processing for Record 9 of Set 7 | Souillac\n",
      "Processing for Record 10 of Set 7 | Codrington\n",
      "Processing for Record 11 of Set 7 | Nelson Bay\n",
      "Processing for Record 12 of Set 7 | Sitka\n",
      "Processing for Record 13 of Set 7 | Laas\n",
      "Processing for Record 14 of Set 7 | Marsaxlokk\n",
      "Processing for Record 15 of Set 7 | Ubari\n",
      "Processing for Record 16 of Set 7 | Salalah\n",
      "Processing for Record 17 of Set 7 | Katsuura\n",
      "Processing for Record 18 of Set 7 | Matane\n",
      "Processing for Record 19 of Set 7 | Biak\n",
      "Processing for Record 20 of Set 7 | Basco\n",
      "City not found. Skipping...\n",
      "Processing for Record 21 of Set 7 | Brae\n",
      "Processing for Record 22 of Set 7 | Saint-François\n",
      "Processing for Record 23 of Set 7 | Slave Lake\n",
      "Processing for Record 24 of Set 7 | Bintulu\n",
      "Processing for Record 25 of Set 7 | Llanes\n",
      "Processing for Record 26 of Set 7 | Yulara\n",
      "Processing for Record 27 of Set 7 | Belmonte\n",
      "Processing for Record 28 of Set 7 | Savinka\n",
      "Processing for Record 29 of Set 7 | Elko\n",
      "Processing for Record 30 of Set 7 | Plettenberg Bay\n",
      "Processing for Record 31 of Set 7 | Pilar\n",
      "Processing for Record 32 of Set 7 | Halifax\n",
      "City not found. Skipping...\n",
      "Processing for Record 33 of Set 7 | Port Lincoln\n",
      "Processing for Record 34 of Set 7 | Semey\n",
      "City not found. Skipping...\n",
      "Processing for Record 35 of Set 7 | Novoanninskiy\n",
      "Processing for Record 36 of Set 7 | Guerrero Negro\n",
      "Processing for Record 37 of Set 7 | Djibouti\n",
      "Processing for Record 38 of Set 7 | Burns Lake\n",
      "Processing for Record 39 of Set 7 | Palmerston\n",
      "Processing for Record 40 of Set 7 | Los Llanos de Aridane\n",
      "City not found. Skipping...\n",
      "Processing for Record 41 of Set 7 | Andros Town\n"
     ]
    },
    {
     "name": "stdout",
     "output_type": "stream",
     "text": [
      "Processing for Record 42 of Set 7 | Château-Thierry\n",
      "Processing for Record 43 of Set 7 | Sangmélima\n",
      "Processing for Record 44 of Set 7 | Sampit\n",
      "Processing for Record 45 of Set 7 | Linxia Chengguanzhen\n",
      "Processing for Record 46 of Set 7 | Grindavik\n",
      "Processing for Record 47 of Set 7 | Tokur\n",
      "Processing for Record 48 of Set 7 | Caraguatatuba\n",
      "Processing for Record 49 of Set 7 | Palāsa\n",
      "Processing for Record 50 of Set 7 | Antalaha\n",
      "Processing for Record 1 of Set 8 | Maraã\n",
      "Processing for Record 2 of Set 8 | Moyale\n",
      "Processing for Record 3 of Set 8 | Beringovskiy\n",
      "Processing for Record 4 of Set 8 | Pytalovo\n",
      "Processing for Record 5 of Set 8 | Port Hawkesbury\n",
      "Processing for Record 6 of Set 8 | Lucea\n",
      "Processing for Record 7 of Set 8 | Cockburn Town\n",
      "Processing for Record 8 of Set 8 | Longyearbyen\n",
      "Processing for Record 9 of Set 8 | Lavrentiya\n",
      "Processing for Record 10 of Set 8 | Antsohihy\n",
      "Processing for Record 11 of Set 8 | Ponta do Sol\n",
      "Processing for Record 12 of Set 8 | Adamovka\n",
      "Processing for Record 13 of Set 8 | Edd\n",
      "Processing for Record 14 of Set 8 | Litovko\n",
      "Processing for Record 15 of Set 8 | Ponta Delgada\n",
      "City not found. Skipping...\n",
      "Processing for Record 16 of Set 8 | Mengcheng\n",
      "Processing for Record 17 of Set 8 | Saint-Pierre\n",
      "Processing for Record 18 of Set 8 | Fort Nelson\n",
      "Processing for Record 19 of Set 8 | Nome\n",
      "Processing for Record 20 of Set 8 | Katangli\n",
      "Processing for Record 21 of Set 8 | Bousso\n",
      "Processing for Record 22 of Set 8 | San Patricio\n",
      "City not found. Skipping...\n",
      "Processing for Record 23 of Set 8 | Qaqortoq\n",
      "Processing for Record 24 of Set 8 | Barsovo\n",
      "City not found. Skipping...\n",
      "Processing for Record 25 of Set 8 | Changji\n",
      "Processing for Record 26 of Set 8 | Scarborough\n",
      "Processing for Record 27 of Set 8 | Erenhot\n",
      "Processing for Record 28 of Set 8 | Sisimiut\n",
      "Processing for Record 29 of Set 8 | Campagna\n",
      "Processing for Record 30 of Set 8 | Port Blair\n",
      "Processing for Record 31 of Set 8 | Qax\n",
      "Processing for Record 32 of Set 8 | Turbat\n",
      "Processing for Record 33 of Set 8 | Poronaysk\n",
      "Processing for Record 34 of Set 8 | Purranque\n",
      "City not found. Skipping...\n",
      "Processing for Record 35 of Set 8 | Manokwari\n",
      "Processing for Record 36 of Set 8 | Udimskiy\n",
      "Processing for Record 37 of Set 8 | Diego de Almagro\n",
      "Processing for Record 38 of Set 8 | Kavieng\n",
      "City not found. Skipping...\n",
      "Processing for Record 39 of Set 8 | Bilma\n",
      "Processing for Record 40 of Set 8 | Bubaque\n",
      "Processing for Record 41 of Set 8 | Namie\n",
      "City not found. Skipping...\n",
      "Processing for Record 42 of Set 8 | Jerome\n",
      "Processing for Record 43 of Set 8 | Arrondissement de Bastia\n",
      "Processing for Record 44 of Set 8 | Klaksvík\n",
      "Processing for Record 45 of Set 8 | Tuktoyaktuk\n",
      "Processing for Record 46 of Set 8 | Fereydūnkenār\n",
      "Processing for Record 47 of Set 8 | Alugan\n",
      "Processing for Record 48 of Set 8 | Bara\n",
      "Processing for Record 49 of Set 8 | Gemena\n",
      "Processing for Record 50 of Set 8 | Bathsheba\n",
      "Processing for Record 1 of Set 9 | Khani\n",
      "Processing for Record 2 of Set 9 | Kismayo\n",
      "Processing for Record 3 of Set 9 | San Ramon\n",
      "Processing for Record 4 of Set 9 | Ruy Barbosa\n",
      "Processing for Record 5 of Set 9 | Mana\n",
      "Processing for Record 6 of Set 9 | Zhezkazgan\n",
      "City not found. Skipping...\n",
      "Processing for Record 7 of Set 9 | Iqaluit\n",
      "Processing for Record 8 of Set 9 | Sechura\n",
      "City not found. Skipping...\n",
      "City not found. Skipping...\n",
      "Processing for Record 9 of Set 9 | Izumo\n",
      "Processing for Record 10 of Set 9 | Morón\n",
      "Processing for Record 11 of Set 9 | Straubing\n",
      "Processing for Record 12 of Set 9 | Kupang\n",
      "Processing for Record 13 of Set 9 | Nokaneng\n",
      "Processing for Record 14 of Set 9 | Pyapon\n",
      "Processing for Record 15 of Set 9 | San Miguel de Tucumán\n",
      "Processing for Record 16 of Set 9 | Bac Lieu\n",
      "Processing for Record 17 of Set 9 | Brenes\n",
      "Processing for Record 18 of Set 9 | Santa Cruz de la Sierra\n",
      "Processing for Record 19 of Set 9 | Aden\n",
      "Processing for Record 20 of Set 9 | Muros\n",
      "Processing for Record 21 of Set 9 | Henties Bay\n",
      "City not found. Skipping...\n",
      "Processing for Record 22 of Set 9 | Bārmer\n",
      "Processing for Record 23 of Set 9 | Xichang\n",
      "Processing for Record 24 of Set 9 | Iralaya\n",
      "Processing for Record 25 of Set 9 | Along\n",
      "City not found. Skipping...\n",
      "Processing for Record 26 of Set 9 | Aktau\n",
      "Processing for Record 27 of Set 9 | Conceição do Araguaia\n",
      "Processing for Record 28 of Set 9 | Ayagoz\n",
      "Processing for Record 29 of Set 9 | Bulgan\n",
      "Processing for Record 30 of Set 9 | Koumac\n",
      "City not found. Skipping...\n",
      "Processing for Record 31 of Set 9 | Tigzirt\n",
      "Processing for Record 32 of Set 9 | Pinotepa de Don Luis\n",
      "Processing for Record 33 of Set 9 | Conakry\n",
      "Processing for Record 34 of Set 9 | Ténenkou\n",
      "Processing for Record 35 of Set 9 | Hasaki\n",
      "Processing for Record 36 of Set 9 | Sumenep\n",
      "Processing for Record 37 of Set 9 | Villazón\n",
      "Processing for Record 38 of Set 9 | Waddān\n",
      "Processing for Record 39 of Set 9 | Hofn\n",
      "Processing for Record 40 of Set 9 | Rincon\n",
      "Processing for Record 41 of Set 9 | Abnūb\n",
      "Processing for Record 42 of Set 9 | Vokhtoga\n",
      "Processing for Record 43 of Set 9 | Okhotsk\n",
      "Processing for Record 44 of Set 9 | Yangi Marg`ilon\n",
      "Processing for Record 45 of Set 9 | Balakhta\n",
      "Processing for Record 46 of Set 9 | Kloulklubed\n",
      "Processing for Record 47 of Set 9 | Ampanihy\n",
      "Processing for Record 48 of Set 9 | Tessalit\n",
      "Processing for Record 49 of Set 9 | Marfino\n",
      "Processing for Record 50 of Set 9 | Benjamín Aceval\n",
      "Processing for Record 1 of Set 10 | Micheweni\n",
      "Processing for Record 2 of Set 10 | Kiruna\n",
      "Processing for Record 3 of Set 10 | Pierre\n",
      "Processing for Record 4 of Set 10 | Bouaflé\n",
      "Processing for Record 5 of Set 10 | Sabang\n",
      "Processing for Record 6 of Set 10 | Dhemāji\n",
      "Processing for Record 7 of Set 10 | Aykhal\n",
      "Processing for Record 8 of Set 10 | Kriva Palanka\n",
      "Processing for Record 9 of Set 10 | Bonthe\n",
      "Processing for Record 10 of Set 10 | Zhirnovsk\n",
      "Processing for Record 11 of Set 10 | Kaili\n",
      "City not found. Skipping...\n",
      "Processing for Record 12 of Set 10 | Balkhash\n",
      "Processing for Record 13 of Set 10 | Kaseda-shirakame\n",
      "Processing for Record 14 of Set 10 | Deputatsky\n",
      "Processing for Record 15 of Set 10 | Baijiantan\n",
      "Processing for Record 16 of Set 10 | Uyemskiy\n",
      "Processing for Record 17 of Set 10 | Nampula\n",
      "Processing for Record 18 of Set 10 | Talcahuano\n",
      "Processing for Record 19 of Set 10 | Huangmei\n",
      "City not found. Skipping...\n",
      "Processing for Record 20 of Set 10 | Padang\n",
      "City not found. Skipping...\n",
      "Processing for Record 21 of Set 10 | Chhor\n",
      "Processing for Record 22 of Set 10 | Corner Brook\n",
      "Processing for Record 23 of Set 10 | Leirvik\n",
      "Processing for Record 24 of Set 10 | Dongsheng\n",
      "Processing for Record 25 of Set 10 | Daşoguz\n",
      "Processing for Record 26 of Set 10 | Bilibino\n",
      "Processing for Record 27 of Set 10 | Yinchuan\n",
      "Processing for Record 28 of Set 10 | Nanortalik\n",
      "Processing for Record 29 of Set 10 | Lagoa\n",
      "Processing for Record 30 of Set 10 | Vila Franca do Campo\n",
      "Processing for Record 31 of Set 10 | Kirakira\n",
      "Processing for Record 32 of Set 10 | Øksfjord\n",
      "Processing for Record 33 of Set 10 | Nantucket\n",
      "Processing for Record 34 of Set 10 | Namatanai\n",
      "Processing for Record 35 of Set 10 | Tadine\n",
      "Processing for Record 36 of Set 10 | Nemuro\n",
      "Processing for Record 37 of Set 10 | Itarema\n",
      "Processing for Record 38 of Set 10 | Rønne\n",
      "Processing for Record 39 of Set 10 | Venice\n",
      "Processing for Record 40 of Set 10 | Gizo Government Station\n",
      "Processing for Record 41 of Set 10 | Senneterre\n",
      "Processing for Record 42 of Set 10 | Ust-Kuyga\n",
      "Processing for Record 43 of Set 10 | Port Hedland\n",
      "Processing for Record 44 of Set 10 | Leeuwarden\n",
      "Processing for Record 45 of Set 10 | Penzance\n",
      "City not found. Skipping...\n",
      "Processing for Record 46 of Set 10 | Ilhabela\n",
      "Processing for Record 47 of Set 10 | Pingliang\n",
      "Processing for Record 48 of Set 10 | Hīt\n",
      "Processing for Record 49 of Set 10 | Bileća\n",
      "Processing for Record 50 of Set 10 | Cabra\n",
      "Processing for Record 1 of Set 11 | Koslan\n",
      "Processing for Record 2 of Set 11 | Novobirilyussy\n",
      "Processing for Record 3 of Set 11 | Hoima\n",
      "Processing for Record 4 of Set 11 | Djibo\n",
      "Processing for Record 5 of Set 11 | Burla\n",
      "Processing for Record 6 of Set 11 | Gorin\n",
      "Processing for Record 7 of Set 11 | Eyl\n",
      "Processing for Record 8 of Set 11 | Chicama\n",
      "Processing for Record 9 of Set 11 | Cherskiy\n",
      "City not found. Skipping...\n",
      "Processing for Record 10 of Set 11 | Flin Flon\n",
      "Processing for Record 11 of Set 11 | Assiut\n"
     ]
    },
    {
     "name": "stdout",
     "output_type": "stream",
     "text": [
      "Processing for Record 12 of Set 11 | Fukuechō\n",
      "Processing for Record 13 of Set 11 | São João da Barra\n",
      "Processing for Record 14 of Set 11 | Indianola\n",
      "Processing for Record 15 of Set 11 | Zeya\n",
      "City not found. Skipping...\n",
      "Processing for Record 16 of Set 11 | Praia\n",
      "Processing for Record 17 of Set 11 | Ozernovskiy\n",
      "Processing for Record 18 of Set 11 | Jalu\n",
      "Processing for Record 19 of Set 11 | Gorontalo\n",
      "Processing for Record 20 of Set 11 | Ust'-Koksa\n",
      "Processing for Record 21 of Set 11 | Port Keats\n",
      "Processing for Record 22 of Set 11 | Todos Santos\n",
      "Processing for Record 23 of Set 11 | Khovd\n",
      "Processing for Record 24 of Set 11 | Boddam\n",
      "Processing for Record 25 of Set 11 | Torrington\n",
      "Processing for Record 26 of Set 11 | Gagra\n",
      "Processing for Record 27 of Set 11 | Te Anau\n",
      "City not found. Skipping...\n",
      "Processing for Record 28 of Set 11 | Narrabri\n",
      "Processing for Record 29 of Set 11 | Sorong\n",
      "Processing for Record 30 of Set 11 | Asău\n",
      "Processing for Record 31 of Set 11 | Kalmunai\n",
      "Processing for Record 32 of Set 11 | Rome\n",
      "Processing for Record 33 of Set 11 | Avera\n",
      "Processing for Record 34 of Set 11 | Chapais\n",
      "Processing for Record 35 of Set 11 | Bālurghāt\n",
      "Processing for Record 36 of Set 11 | Satānā\n",
      "Processing for Record 37 of Set 11 | Skjervøy\n",
      "Processing for Record 38 of Set 11 | Meadow Lake\n",
      "Processing for Record 39 of Set 11 | Lewisporte\n",
      "Processing for Record 40 of Set 11 | Hibbing\n",
      "Processing for Record 41 of Set 11 | Mishkino\n",
      "Processing for Record 42 of Set 11 | Port Macquarie\n",
      "City not found. Skipping...\n",
      "Processing for Record 43 of Set 11 | Waipawa\n",
      "City not found. Skipping...\n",
      "Processing for Record 44 of Set 11 | Mount Gambier\n",
      "Processing for Record 45 of Set 11 | Namwala\n",
      "Processing for Record 46 of Set 11 | Belgrade\n",
      "Processing for Record 47 of Set 11 | Soavinandriana\n",
      "Processing for Record 48 of Set 11 | Chunskiy\n",
      "Processing for Record 49 of Set 11 | Athabasca\n",
      "Processing for Record 50 of Set 11 | Östersund\n",
      "Processing for Record 1 of Set 12 | Petropavlovsk-Kamchatskiy\n",
      "Processing for Record 2 of Set 12 | Coahuayana Viejo\n",
      "Processing for Record 3 of Set 12 | Petawawa\n",
      "Processing for Record 4 of Set 12 | Husavik\n",
      "Processing for Record 5 of Set 12 | Labuhan\n",
      "Processing for Record 6 of Set 12 | Bahía Honda\n",
      "Processing for Record 7 of Set 12 | Vikhorevka\n",
      "Processing for Record 8 of Set 12 | Chipinge\n",
      "Processing for Record 9 of Set 12 | Leshukonskoye\n",
      "Processing for Record 10 of Set 12 | Vrangel'\n",
      "Processing for Record 11 of Set 12 | Sydney\n",
      "Processing for Record 12 of Set 12 | Ribeira Brava\n",
      "Processing for Record 13 of Set 12 | Kroya\n",
      "Processing for Record 14 of Set 12 | Kiryat Gat\n",
      "Processing for Record 15 of Set 12 | Saldanha\n",
      "Processing for Record 16 of Set 12 | Port-Gentil\n",
      "Processing for Record 17 of Set 12 | Tongren\n",
      "Processing for Record 18 of Set 12 | Severobaykal'sk\n",
      "Processing for Record 19 of Set 12 | Rocha\n",
      "Processing for Record 20 of Set 12 | Zagyvaszántó\n",
      "Processing for Record 21 of Set 12 | Puerto Maldonado\n",
      "Processing for Record 22 of Set 12 | Bosilegrad\n",
      "Processing for Record 23 of Set 12 | Sumbe\n",
      "City not found. Skipping...\n",
      "Processing for Record 24 of Set 12 | Udala\n",
      "Processing for Record 25 of Set 12 | Paamiut\n",
      "Processing for Record 26 of Set 12 | Xining\n",
      "Processing for Record 27 of Set 12 | Gwembe\n",
      "Processing for Record 28 of Set 12 | Krasnyy Chikoy\n",
      "Processing for Record 29 of Set 12 | Storforshei\n",
      "Processing for Record 30 of Set 12 | Pisco\n",
      "Processing for Record 31 of Set 12 | Homer\n",
      "Processing for Record 32 of Set 12 | Talnakh\n",
      "Processing for Record 33 of Set 12 | Kattivākkam\n",
      "City not found. Skipping...\n",
      "City not found. Skipping...\n",
      "Processing for Record 34 of Set 12 | Yuci\n",
      "Processing for Record 35 of Set 12 | Helong\n",
      "City not found. Skipping...\n",
      "Processing for Record 36 of Set 12 | Ipixuna\n",
      "Processing for Record 37 of Set 12 | Furth im Wald\n",
      "Processing for Record 38 of Set 12 | Yaan\n",
      "Processing for Record 39 of Set 12 | Zemio\n",
      "Processing for Record 40 of Set 12 | Ambulu\n",
      "Processing for Record 41 of Set 12 | Aegviidu\n",
      "City not found. Skipping...\n",
      "Processing for Record 42 of Set 12 | Yining\n",
      "City not found. Skipping...\n",
      "Processing for Record 43 of Set 12 | Tsogni\n",
      "\n",
      "-----------------------------\n",
      "Data Retrival Complete\n",
      "-----------------------------\n"
     ]
    }
   ],
   "source": [
    "record_num = 1\n",
    "record_set = 1\n",
    "\n",
    "#Base url to make the api call\n",
    "base_url = 'http://api.openweathermap.org/data/2.5/weather?units=imperial&q='\n",
    "\n",
    "#Run the API call for each city\n",
    "print('''\n",
    "-----------------------------\n",
    "Beginning Data Retrieval\n",
    "-----------------------------''')\n",
    "for index, row in city_weather.iterrows(): \n",
    "    #Create the query url for the API call\n",
    "    query_url = base_url + row['City'] + '&APPID=' + weather_api_key\n",
    "    \n",
    "    #API call\n",
    "    response = requests.get(query_url).json()\n",
    "    \n",
    "    #Exception script in case the city is not found by the API call\n",
    "    try: \n",
    "        #Meassage to alert the user that the data is being retrieved\n",
    "        print(f'Processing for Record {record_num} of Set {record_set} | {response[\"name\"]}')\n",
    "        \n",
    "        #Input data into the dataframe\n",
    "        city_weather.loc[index, 'Cloudiness'] = response['clouds']['all']\n",
    "        city_weather.loc[index, 'Country'] = response['sys']['country']      \n",
    "        city_weather.loc[index, 'Date'] = response['dt']\n",
    "        city_weather.loc[index, 'Humidity'] = response['main']['humidity']\n",
    "        city_weather.loc[index, 'Lat'] = response['coord']['lat']\n",
    "        city_weather.loc[index, 'Lng'] = response['coord']['lon']\n",
    "        city_weather.loc[index, 'Max Temp'] = response['main']['temp_max']\n",
    "        city_weather.loc[index, 'Windspeed'] = response['wind']['speed']\n",
    "        \n",
    "        #Increase the record count\n",
    "        record_num += 1\n",
    "        \n",
    "    except (KeyError, IndexError):\n",
    "       print(\"City not found. Skipping...\")\n",
    "\n",
    "    #If statement to handle the API call limits\n",
    "    if record_num == 51:\n",
    "        record_set += 1\n",
    "        record_num = 1\n",
    "       \n",
    "        \n",
    "print('''\n",
    "-----------------------------\n",
    "Data Retrival Complete\n",
    "-----------------------------''')"
   ]
  },
  {
   "cell_type": "code",
   "execution_count": null,
   "metadata": {},
   "outputs": [],
   "source": [
    "### Convert Raw Data to DataFrame\n",
    "* Export the city data into a .csv.\n",
    "* Display the DataFrame"
   ]
  },
  {
   "cell_type": "code",
   "execution_count": 5,
   "metadata": {},
   "outputs": [
    {
     "data": {
      "text/html": [
       "<div>\n",
       "<style scoped>\n",
       "    .dataframe tbody tr th:only-of-type {\n",
       "        vertical-align: middle;\n",
       "    }\n",
       "\n",
       "    .dataframe tbody tr th {\n",
       "        vertical-align: top;\n",
       "    }\n",
       "\n",
       "    .dataframe thead th {\n",
       "        text-align: right;\n",
       "    }\n",
       "</style>\n",
       "<table border=\"1\" class=\"dataframe\">\n",
       "  <thead>\n",
       "    <tr style=\"text-align: right;\">\n",
       "      <th></th>\n",
       "      <th>City</th>\n",
       "      <th>Country</th>\n",
       "      <th>Cloudiness</th>\n",
       "      <th>Date</th>\n",
       "      <th>Humidity</th>\n",
       "      <th>Lat</th>\n",
       "      <th>Lng</th>\n",
       "      <th>Max Temp</th>\n",
       "      <th>Windspeed</th>\n",
       "    </tr>\n",
       "  </thead>\n",
       "  <tbody>\n",
       "    <tr>\n",
       "      <td>0</td>\n",
       "      <td>mataura</td>\n",
       "      <td>NZ</td>\n",
       "      <td>0</td>\n",
       "      <td>1586559974</td>\n",
       "      <td>74</td>\n",
       "      <td>-46.19</td>\n",
       "      <td>168.86</td>\n",
       "      <td>59.00</td>\n",
       "      <td>5.99</td>\n",
       "    </tr>\n",
       "    <tr>\n",
       "      <td>1</td>\n",
       "      <td>surt</td>\n",
       "      <td>LY</td>\n",
       "      <td>48</td>\n",
       "      <td>1586559974</td>\n",
       "      <td>57</td>\n",
       "      <td>31.21</td>\n",
       "      <td>16.59</td>\n",
       "      <td>58.71</td>\n",
       "      <td>9.69</td>\n",
       "    </tr>\n",
       "    <tr>\n",
       "      <td>2</td>\n",
       "      <td>cidreira</td>\n",
       "      <td>BR</td>\n",
       "      <td>5</td>\n",
       "      <td>1586559975</td>\n",
       "      <td>77</td>\n",
       "      <td>-30.18</td>\n",
       "      <td>-50.21</td>\n",
       "      <td>64.67</td>\n",
       "      <td>6.71</td>\n",
       "    </tr>\n",
       "    <tr>\n",
       "      <td>3</td>\n",
       "      <td>punta arenas</td>\n",
       "      <td>CL</td>\n",
       "      <td>75</td>\n",
       "      <td>1586559975</td>\n",
       "      <td>75</td>\n",
       "      <td>-53.15</td>\n",
       "      <td>-70.92</td>\n",
       "      <td>44.60</td>\n",
       "      <td>9.17</td>\n",
       "    </tr>\n",
       "    <tr>\n",
       "      <td>4</td>\n",
       "      <td>bluff</td>\n",
       "      <td>NZ</td>\n",
       "      <td>0</td>\n",
       "      <td>1586559975</td>\n",
       "      <td>74</td>\n",
       "      <td>-46.6</td>\n",
       "      <td>168.33</td>\n",
       "      <td>59.00</td>\n",
       "      <td>5.99</td>\n",
       "    </tr>\n",
       "  </tbody>\n",
       "</table>\n",
       "</div>"
      ],
      "text/plain": [
       "           City Country Cloudiness        Date Humidity    Lat     Lng  \\\n",
       "0       mataura      NZ          0  1586559974       74 -46.19  168.86   \n",
       "1          surt      LY         48  1586559974       57  31.21   16.59   \n",
       "2      cidreira      BR          5  1586559975       77 -30.18  -50.21   \n",
       "3  punta arenas      CL         75  1586559975       75 -53.15  -70.92   \n",
       "4         bluff      NZ          0  1586559975       74  -46.6  168.33   \n",
       "\n",
       "   Max Temp Windspeed  \n",
       "0     59.00      5.99  \n",
       "1     58.71      9.69  \n",
       "2     64.67      6.71  \n",
       "3     44.60      9.17  \n",
       "4     59.00      5.99  "
      ]
     },
     "execution_count": 5,
     "metadata": {},
     "output_type": "execute_result"
    }
   ],
   "source": [
    "city_weather['Max Temp'] = city_weather['Max Temp'].replace('', np.nan)\n",
    "city_weather = city_weather.dropna()\n",
    "\n",
    "city_weather_ni = city_weather.reset_index(drop=True)\n",
    "city_weather_ni.head()\n"
   ]
  },
  {
   "cell_type": "code",
   "execution_count": 9,
   "metadata": {},
   "outputs": [],
   "source": [
    "#city_weather.replace(r'\\s+',np.nan,regex=True).replace('',np.nan)\n",
    "#city_weather.dropna(inplace=True)\n",
    "\n",
    "#city_weather = city_weather.dropna(how=\"all\")\n",
    "#city_weather = city_weather[city_weather.Cloudiness != '']\n",
    "#city_weather.dropna(axis=0, how='any', thresh=None, subset=None, inplace=False)\n",
    "#city_weather.head()\n"
   ]
  },
  {
   "cell_type": "code",
   "execution_count": 6,
   "metadata": {
    "scrolled": true
   },
   "outputs": [
    {
     "data": {
      "text/plain": [
       "City          593\n",
       "Country       593\n",
       "Cloudiness    593\n",
       "Date          593\n",
       "Humidity      593\n",
       "Lat           593\n",
       "Lng           593\n",
       "Max Temp      593\n",
       "Windspeed     593\n",
       "dtype: int64"
      ]
     },
     "execution_count": 6,
     "metadata": {},
     "output_type": "execute_result"
    }
   ],
   "source": [
    "city_weather_ni.count()"
   ]
  },
  {
   "cell_type": "code",
   "execution_count": 7,
   "metadata": {},
   "outputs": [
    {
     "data": {
      "text/html": [
       "<div>\n",
       "<style scoped>\n",
       "    .dataframe tbody tr th:only-of-type {\n",
       "        vertical-align: middle;\n",
       "    }\n",
       "\n",
       "    .dataframe tbody tr th {\n",
       "        vertical-align: top;\n",
       "    }\n",
       "\n",
       "    .dataframe thead th {\n",
       "        text-align: right;\n",
       "    }\n",
       "</style>\n",
       "<table border=\"1\" class=\"dataframe\">\n",
       "  <thead>\n",
       "    <tr style=\"text-align: right;\">\n",
       "      <th></th>\n",
       "      <th>City</th>\n",
       "      <th>Country</th>\n",
       "      <th>Cloudiness</th>\n",
       "      <th>Date</th>\n",
       "      <th>Humidity</th>\n",
       "      <th>Lat</th>\n",
       "      <th>Lng</th>\n",
       "      <th>Max Temp</th>\n",
       "      <th>Windspeed</th>\n",
       "    </tr>\n",
       "  </thead>\n",
       "  <tbody>\n",
       "    <tr>\n",
       "      <td>0</td>\n",
       "      <td>mataura</td>\n",
       "      <td>NZ</td>\n",
       "      <td>0</td>\n",
       "      <td>1586559974</td>\n",
       "      <td>74</td>\n",
       "      <td>-46.19</td>\n",
       "      <td>168.86</td>\n",
       "      <td>59.00</td>\n",
       "      <td>5.99</td>\n",
       "    </tr>\n",
       "    <tr>\n",
       "      <td>1</td>\n",
       "      <td>surt</td>\n",
       "      <td>LY</td>\n",
       "      <td>48</td>\n",
       "      <td>1586559974</td>\n",
       "      <td>57</td>\n",
       "      <td>31.21</td>\n",
       "      <td>16.59</td>\n",
       "      <td>58.71</td>\n",
       "      <td>9.69</td>\n",
       "    </tr>\n",
       "    <tr>\n",
       "      <td>2</td>\n",
       "      <td>cidreira</td>\n",
       "      <td>BR</td>\n",
       "      <td>5</td>\n",
       "      <td>1586559975</td>\n",
       "      <td>77</td>\n",
       "      <td>-30.18</td>\n",
       "      <td>-50.21</td>\n",
       "      <td>64.67</td>\n",
       "      <td>6.71</td>\n",
       "    </tr>\n",
       "    <tr>\n",
       "      <td>3</td>\n",
       "      <td>punta arenas</td>\n",
       "      <td>CL</td>\n",
       "      <td>75</td>\n",
       "      <td>1586559975</td>\n",
       "      <td>75</td>\n",
       "      <td>-53.15</td>\n",
       "      <td>-70.92</td>\n",
       "      <td>44.60</td>\n",
       "      <td>9.17</td>\n",
       "    </tr>\n",
       "    <tr>\n",
       "      <td>4</td>\n",
       "      <td>bluff</td>\n",
       "      <td>NZ</td>\n",
       "      <td>0</td>\n",
       "      <td>1586559975</td>\n",
       "      <td>74</td>\n",
       "      <td>-46.6</td>\n",
       "      <td>168.33</td>\n",
       "      <td>59.00</td>\n",
       "      <td>5.99</td>\n",
       "    </tr>\n",
       "  </tbody>\n",
       "</table>\n",
       "</div>"
      ],
      "text/plain": [
       "           City Country Cloudiness        Date Humidity    Lat     Lng  \\\n",
       "0       mataura      NZ          0  1586559974       74 -46.19  168.86   \n",
       "1          surt      LY         48  1586559974       57  31.21   16.59   \n",
       "2      cidreira      BR          5  1586559975       77 -30.18  -50.21   \n",
       "3  punta arenas      CL         75  1586559975       75 -53.15  -70.92   \n",
       "4         bluff      NZ          0  1586559975       74  -46.6  168.33   \n",
       "\n",
       "   Max Temp Windspeed  \n",
       "0     59.00      5.99  \n",
       "1     58.71      9.69  \n",
       "2     64.67      6.71  \n",
       "3     44.60      9.17  \n",
       "4     59.00      5.99  "
      ]
     },
     "execution_count": 7,
     "metadata": {},
     "output_type": "execute_result"
    }
   ],
   "source": [
    "city_weather_ni.to_csv(\"cities.csv\", index=False, header=True)\n",
    "city_weather_ni.head()"
   ]
  },
  {
   "cell_type": "markdown",
   "metadata": {},
   "source": [
    "### Plotting the Data\n",
    "* Use proper labeling of the plots using plot titles (including date of analysis) and axes labels.\n",
    "* Save the plotted figures as .pngs."
   ]
  },
  {
   "cell_type": "markdown",
   "metadata": {},
   "source": [
    "#### Latitude vs. Temperature Plot"
   ]
  },
  {
   "cell_type": "code",
   "execution_count": 8,
   "metadata": {
    "scrolled": true
   },
   "outputs": [
    {
     "data": {
      "image/png": "[encoded data removed]",
      "text/plain": [
       "<Figure size 432x288 with 1 Axes>"
      ]
     },
     "metadata": {
      "needs_background": "light"
     },
     "output_type": "display_data"
    }
   ],
   "source": [
    "plt.scatter(city_weather_ni[\"Lat\"], city_weather_ni[\"Max Temp\"], marker=\"o\")\n",
    "\n",
    "# Incorporate the other graph properties\n",
    "plt.title(\"City Laditude vs. Max Temperature (05/28/19)\")\n",
    "plt.ylabel(\"Max Temperature (F)\")\n",
    "plt.xlabel(\"Latitude\")\n",
    "plt.grid(True)\n",
    "\n",
    "# Save the figure\n",
    "plt.savefig(\"Fig1.png\")\n",
    "\n",
    "# Show plot\n",
    "plt.show()"
   ]
  },
  {
   "cell_type": "markdown",
   "metadata": {},
   "source": [
    "#### Latitude vs. Humidity Plot"
   ]
  },
  {
   "cell_type": "code",
   "execution_count": 9,
   "metadata": {},
   "outputs": [
    {
     "data": {
      "image/png": "[encoded data removed]",
      "text/plain": [
       "<Figure size 432x288 with 1 Axes>"
      ]
     },
     "metadata": {
      "needs_background": "light"
     },
     "output_type": "display_data"
    }
   ],
   "source": [
    "plt.scatter(city_weather_ni[\"Lat\"], city_weather_ni[\"Humidity\"], marker=\"o\")\n",
    "\n",
    "# Incorporate the other graph properties\n",
    "plt.title(\"City Laditude vs. Humidity (05/28/19)\")\n",
    "plt.ylabel(\"Humidity (%)\")\n",
    "plt.xlabel(\"Latitude\")\n",
    "plt.grid(True)\n",
    "\n",
    "# Save the figure\n",
    "plt.savefig(\"Fig2.png\")\n",
    "\n",
    "# Show plot\n",
    "plt.show()"
   ]
  },
  {
   "cell_type": "markdown",
   "metadata": {},
   "source": [
    "#### Latitude vs. Cloudiness Plot"
   ]
  },
  {
   "cell_type": "code",
   "execution_count": 10,
   "metadata": {},
   "outputs": [
    {
     "data": {
      "image/png": "[encoded data removed]",
      "text/plain": [
       "<Figure size 432x288 with 1 Axes>"
      ]
     },
     "metadata": {
      "needs_background": "light"
     },
     "output_type": "display_data"
    }
   ],
   "source": [
    "plt.scatter(city_weather_ni[\"Lat\"], city_weather_ni[\"Cloudiness\"], marker=\"o\")\n",
    "\n",
    "# Incorporate the other graph properties\n",
    "plt.title(\"City Laditude vs. Cloudiness (05/28/19)\")\n",
    "plt.ylabel(\"Cloudiness (%)\")\n",
    "plt.xlabel(\"Latitude\")\n",
    "plt.grid(True)\n",
    "\n",
    "# Save the figure\n",
    "plt.savefig(\"Fig3.png\")\n",
    "\n",
    "# Show plot\n",
    "plt.show()"
   ]
  },
  {
   "cell_type": "markdown",
   "metadata": {},
   "source": [
    "#### Latitude vs. Wind Speed Plot"
   ]
  },
  {
   "cell_type": "code",
   "execution_count": 11,
   "metadata": {},
   "outputs": [
    {
     "data": {
      "image/png": "[encoded data removed]",
      "text/plain": [
       "<Figure size 432x288 with 1 Axes>"
      ]
     },
     "metadata": {
      "needs_background": "light"
     },
     "output_type": "display_data"
    }
   ],
   "source": [
    "plt.scatter(city_weather_ni[\"Lat\"], city_weather_ni[\"Windspeed\"], marker=\"o\")\n",
    "\n",
    "# Incorporate the other graph properties\n",
    "plt.title(\"City Laditude vs. Wind Speed (05/28/19)\")\n",
    "plt.ylabel(\"Wind Speed (mph)\")\n",
    "plt.xlabel(\"Latitude\")\n",
    "plt.grid(True)\n",
    "\n",
    "# Save the figure\n",
    "plt.savefig(\"Fig4.png\")\n",
    "\n",
    "# Show plot\n",
    "plt.show()"
   ]
  },
  {
   "cell_type": "markdown",
   "metadata": {},
   "source": [
    "## Linear Regression"
   ]
  },
  {
   "cell_type": "code",
   "execution_count": 108,
   "metadata": {},
   "outputs": [],
   "source": [
    "# OPTIONAL: Create a function to create Linear Regression plots\n"
   ]
  },
  {
   "cell_type": "code",
   "execution_count": 12,
   "metadata": {},
   "outputs": [],
   "source": [
    "# Create Northern and Southern Hemisphere DataFrames\n",
    "northern_hemispere = city_weather_ni.loc[city_weather_ni[\"Lat\"] > 0.0]\n",
    "southern_hemispere = city_weather_ni.loc[city_weather_ni[\"Lat\"] < 0.0]"
   ]
  },
  {
   "cell_type": "markdown",
   "metadata": {},
   "source": [
    "####  Northern Hemisphere - Max Temp vs. Latitude Linear Regression"
   ]
  },
  {
   "cell_type": "code",
   "execution_count": 13,
   "metadata": {
    "scrolled": true
   },
   "outputs": [
    {
     "name": "stdout",
     "output_type": "stream",
     "text": [
      "The r-squared is: 0.7996634780201407\n"
     ]
    },
    {
     "data": {
      "image/png": "[encoded data removed]",
      "text/plain": [
       "<Figure size 432x288 with 1 Axes>"
      ]
     },
     "metadata": {
      "needs_background": "light"
     },
     "output_type": "display_data"
    }
   ],
   "source": [
    "x_values = northern_hemispere[\"Lat\"].astype(float)\n",
    "y_values = northern_hemispere[\"Max Temp\"].astype(float)\n",
    "plt.scatter(x_values,y_values)\n",
    "(slope, intercept, rvalue, pvalue, stderr) = stats.linregress(x_values, y_values)\n",
    "regress_values = x_values * slope + intercept\n",
    "line_eq = \"y = \" + str(round(slope,2)) + \"x +\" + str(round(intercept,2))\n",
    "plt.plot(x_values,regress_values,\"r-\")\n",
    "plt.annotate(line_eq,(20,15),fontsize=15,color=\"red\")\n",
    "print(f\"The r-squared is: {rvalue**2}\")\n",
    "\n",
    "plt.title('City Laditude vs. Max Temperature ')\n",
    "plt.xlabel('Latitude')\n",
    "plt.ylabel('Temperature')\n",
    "plt.tight_layout()"
   ]
  },
  {
   "cell_type": "markdown",
   "metadata": {},
   "source": [
    "####  Southern Hemisphere - Max Temp vs. Latitude Linear Regression"
   ]
  },
  {
   "cell_type": "code",
   "execution_count": 14,
   "metadata": {
    "scrolled": true
   },
   "outputs": [
    {
     "name": "stdout",
     "output_type": "stream",
     "text": [
      "The r-squared is: 0.5892251125712964\n"
     ]
    },
    {
     "data": {
      "image/png": "[encoded data removed]",
      "text/plain": [
       "<Figure size 432x288 with 1 Axes>"
      ]
     },
     "metadata": {
      "needs_background": "light"
     },
     "output_type": "display_data"
    },
    {
     "data": {
      "text/plain": [
       "<Figure size 1440x720 with 0 Axes>"
      ]
     },
     "metadata": {},
     "output_type": "display_data"
    }
   ],
   "source": [
    "x_values = southern_hemispere[\"Lat\"].astype(float)\n",
    "y_values = southern_hemispere[\"Max Temp\"].astype(float)\n",
    "plt.scatter(x_values,y_values)\n",
    "(slope, intercept, rvalue, pvalue, stderr) = stats.linregress(x_values, y_values)\n",
    "regress_values = x_values * slope + intercept\n",
    "line_eq = \"y = \" + str(round(slope,2)) + \"x +\" + str(round(intercept,2))\n",
    "plt.plot(x_values,regress_values,\"r-\")\n",
    "plt.annotate(line_eq,(-30,50),fontsize=15,color=\"red\")\n",
    "print(f\"The r-squared is: {rvalue**2}\")\n",
    "\n",
    "plt.title('City Laditude vs. Max Temperature ')\n",
    "plt.xlabel('Latitude')\n",
    "plt.ylabel('Temperature')\n",
    "plt.figure(figsize=(20,10))\n",
    "plt.tight_layout()"
   ]
  },
  {
   "cell_type": "markdown",
   "metadata": {},
   "source": [
    "####  Northern Hemisphere - Humidity (%) vs. Latitude Linear Regression"
   ]
  },
  {
   "cell_type": "code",
   "execution_count": 15,
   "metadata": {},
   "outputs": [
    {
     "name": "stdout",
     "output_type": "stream",
     "text": [
      "The r-squared is: 0.06094110761368457\n"
     ]
    },
    {
     "data": {
      "image/png": "[encoded data removed]",
      "text/plain": [
       "<Figure size 432x288 with 1 Axes>"
      ]
     },
     "metadata": {
      "needs_background": "light"
     },
     "output_type": "display_data"
    }
   ],
   "source": [
    "x_values = northern_hemispere[\"Lat\"].astype(float)\n",
    "y_values = northern_hemispere[\"Humidity\"].astype(float)\n",
    "plt.scatter(x_values,y_values)\n",
    "(slope, intercept, rvalue, pvalue, stderr) = stats.linregress(x_values, y_values)\n",
    "regress_values = x_values * slope + intercept\n",
    "line_eq = \"y = \" + str(round(slope,2)) + \"x +\" + str(round(intercept,2))\n",
    "plt.plot(x_values,regress_values,\"r-\")\n",
    "plt.annotate(line_eq,(50,15),fontsize=15,color=\"red\")\n",
    "print(f\"The r-squared is: {rvalue**2}\")\n",
    "\n",
    "plt.title('City Laditude vs. Humidity ')\n",
    "plt.xlabel('Latitude')\n",
    "plt.ylabel('Humidity')\n",
    "plt.tight_layout()"
   ]
  },
  {
   "cell_type": "markdown",
   "metadata": {},
   "source": [
    "####  Southern Hemisphere - Humidity (%) vs. Latitude Linear Regression"
   ]
  },
  {
   "cell_type": "code",
   "execution_count": 16,
   "metadata": {},
   "outputs": [
    {
     "name": "stdout",
     "output_type": "stream",
     "text": [
      "The r-squared is: 0.024657483926995034\n"
     ]
    },
    {
     "data": {
      "image/png": "[encoded data removed]",
      "text/plain": [
       "<Figure size 432x288 with 1 Axes>"
      ]
     },
     "metadata": {
      "needs_background": "light"
     },
     "output_type": "display_data"
    },
    {
     "data": {
      "text/plain": [
       "<Figure size 1440x720 with 0 Axes>"
      ]
     },
     "metadata": {},
     "output_type": "display_data"
    }
   ],
   "source": [
    "x_values = southern_hemispere[\"Lat\"].astype(float)\n",
    "y_values = southern_hemispere[\"Humidity\"].astype(float)\n",
    "plt.scatter(x_values,y_values)\n",
    "(slope, intercept, rvalue, pvalue, stderr) = stats.linregress(x_values, y_values)\n",
    "regress_values = x_values * slope + intercept\n",
    "line_eq = \"y = \" + str(round(slope,2)) + \"x +\" + str(round(intercept,2))\n",
    "plt.plot(x_values,regress_values,\"r-\")\n",
    "plt.annotate(line_eq,(-40,30),fontsize=15,color=\"red\")\n",
    "print(f\"The r-squared is: {rvalue**2}\")\n",
    "\n",
    "plt.title('City Laditude vs. Humidity ')\n",
    "plt.xlabel('Latitude')\n",
    "plt.ylabel('Humidity')\n",
    "plt.figure(figsize=(20,10))\n",
    "plt.tight_layout()"
   ]
  },
  {
   "cell_type": "markdown",
   "metadata": {},
   "source": [
    "####  Northern Hemisphere - Cloudiness (%) vs. Latitude Linear Regression"
   ]
  },
  {
   "cell_type": "code",
   "execution_count": 17,
   "metadata": {},
   "outputs": [
    {
     "name": "stdout",
     "output_type": "stream",
     "text": [
      "The r-squared is: 0.006039790439634885\n"
     ]
    },
    {
     "data": {
      "image/png": "[encoded data removed]",
      "text/plain": [
       "<Figure size 432x288 with 1 Axes>"
      ]
     },
     "metadata": {
      "needs_background": "light"
     },
     "output_type": "display_data"
    }
   ],
   "source": [
    "x_values = northern_hemispere[\"Lat\"].astype(float)\n",
    "y_values = northern_hemispere[\"Cloudiness\"].astype(float)\n",
    "plt.scatter(x_values,y_values)\n",
    "(slope, intercept, rvalue, pvalue, stderr) = stats.linregress(x_values, y_values)\n",
    "regress_values = x_values * slope + intercept\n",
    "line_eq = \"y = \" + str(round(slope,2)) + \"x +\" + str(round(intercept,2))\n",
    "plt.plot(x_values,regress_values,\"r-\")\n",
    "plt.annotate(line_eq,(20,15),fontsize=15,color=\"red\")\n",
    "print(f\"The r-squared is: {rvalue**2}\")\n",
    "\n",
    "plt.title('City Laditude vs. Cloudiness')\n",
    "plt.xlabel('Latitude')\n",
    "plt.ylabel('Cloudiness')\n",
    "plt.tight_layout()"
   ]
  },
  {
   "cell_type": "markdown",
   "metadata": {},
   "source": [
    "####  Southern Hemisphere - Cloudiness (%) vs. Latitude Linear Regression"
   ]
  },
  {
   "cell_type": "code",
   "execution_count": 18,
   "metadata": {},
   "outputs": [
    {
     "name": "stdout",
     "output_type": "stream",
     "text": [
      "The r-squared is: 0.06313573324252429\n"
     ]
    },
    {
     "data": {
      "image/png": "[encoded data removed]",
      "text/plain": [
       "<Figure size 432x288 with 1 Axes>"
      ]
     },
     "metadata": {
      "needs_background": "light"
     },
     "output_type": "display_data"
    },
    {
     "data": {
      "text/plain": [
       "<Figure size 1440x720 with 0 Axes>"
      ]
     },
     "metadata": {},
     "output_type": "display_data"
    }
   ],
   "source": [
    "x_values = southern_hemispere[\"Lat\"].astype(float)\n",
    "y_values = southern_hemispere[\"Cloudiness\"].astype(float)\n",
    "plt.scatter(x_values,y_values)\n",
    "(slope, intercept, rvalue, pvalue, stderr) = stats.linregress(x_values, y_values)\n",
    "regress_values = x_values * slope + intercept\n",
    "line_eq = \"y = \" + str(round(slope,2)) + \"x +\" + str(round(intercept,2))\n",
    "plt.plot(x_values,regress_values,\"r-\")\n",
    "plt.annotate(line_eq,(-50,15),fontsize=15,color=\"red\")\n",
    "print(f\"The r-squared is: {rvalue**2}\")\n",
    "\n",
    "plt.title('City Laditude vs. Cloudiness')\n",
    "plt.xlabel('Latitude')\n",
    "plt.ylabel('Cloudiness')\n",
    "plt.figure(figsize=(20,10))\n",
    "plt.tight_layout()"
   ]
  },
  {
   "cell_type": "markdown",
   "metadata": {},
   "source": [
    "####  Northern Hemisphere - Wind Speed (mph) vs. Latitude Linear Regression"
   ]
  },
  {
   "cell_type": "code",
   "execution_count": 19,
   "metadata": {},
   "outputs": [
    {
     "name": "stdout",
     "output_type": "stream",
     "text": [
      "The r-squared is: 0.04676747651242798\n"
     ]
    },
    {
     "data": {
      "image/png": "[encoded data removed]",
      "text/plain": [
       "<Figure size 432x288 with 1 Axes>"
      ]
     },
     "metadata": {
      "needs_background": "light"
     },
     "output_type": "display_data"
    }
   ],
   "source": [
    "x_values = northern_hemispere[\"Lat\"].astype(float)\n",
    "y_values = northern_hemispere[\"Windspeed\"].astype(float)\n",
    "plt.scatter(x_values,y_values)\n",
    "(slope, intercept, rvalue, pvalue, stderr) = stats.linregress(x_values, y_values)\n",
    "regress_values = x_values * slope + intercept\n",
    "line_eq = \"y = \" + str(round(slope,2)) + \"x +\" + str(round(intercept,2))\n",
    "plt.plot(x_values,regress_values,\"r-\")\n",
    "plt.annotate(line_eq,(20,30),fontsize=15,color=\"red\")\n",
    "print(f\"The r-squared is: {rvalue**2}\")\n",
    "\n",
    "plt.title('City Laditude vs. Wind Speed')\n",
    "plt.xlabel('Latitude')\n",
    "plt.ylabel('Wind Speed')\n",
    "plt.tight_layout()"
   ]
  },
  {
   "cell_type": "markdown",
   "metadata": {},
   "source": [
    "####  Southern Hemisphere - Wind Speed (mph) vs. Latitude Linear Regression"
   ]
  },
  {
   "cell_type": "code",
   "execution_count": 20,
   "metadata": {},
   "outputs": [
    {
     "name": "stdout",
     "output_type": "stream",
     "text": [
      "The r-squared is: 0.05613347561184245\n"
     ]
    },
    {
     "data": {
      "image/png": "[encoded data removed]",
      "text/plain": [
       "<Figure size 432x288 with 1 Axes>"
      ]
     },
     "metadata": {
      "needs_background": "light"
     },
     "output_type": "display_data"
    },
    {
     "data": {
      "text/plain": [
       "<Figure size 1440x720 with 0 Axes>"
      ]
     },
     "metadata": {},
     "output_type": "display_data"
    }
   ],
   "source": [
    "x_values = southern_hemispere[\"Lat\"].astype(float)\n",
    "y_values = southern_hemispere[\"Windspeed\"].astype(float)\n",
    "plt.scatter(x_values,y_values)\n",
    "(slope, intercept, rvalue, pvalue, stderr) = stats.linregress(x_values, y_values)\n",
    "regress_values = x_values * slope + intercept\n",
    "line_eq = \"y = \" + str(round(slope,2)) + \"x +\" + str(round(intercept,2))\n",
    "plt.plot(x_values,regress_values,\"r-\")\n",
    "plt.annotate(line_eq,(-50,15),fontsize=15,color=\"red\")\n",
    "print(f\"The r-squared is: {rvalue**2}\")\n",
    "\n",
    "plt.title('City Laditude vs. Wind Speed')\n",
    "plt.xlabel('Latitude')\n",
    "plt.ylabel('Wind Speed')\n",
    "plt.figure(figsize=(20,10))\n",
    "plt.tight_layout()"
   ]
  },
  {
   "cell_type": "code",
   "execution_count": null,
   "metadata": {},
   "outputs": [],
   "source": []
  }
 ],
 "metadata": {
  "anaconda-cloud": {},
  "kernel_info": {
   "name": "python3"
  },
  "kernelspec": {
   "display_name": "Python 3",
   "language": "python",
   "name": "python3"
  },
  "language_info": {
   "codemirror_mode": {
    "name": "ipython",
    "version": 3
   },
   "file_extension": ".py",
   "mimetype": "text/x-python",
   "name": "python",
   "nbconvert_exporter": "python",
   "pygments_lexer": "ipython3",
   "version": "3.7.4"
  },
  "latex_envs": {
   "LaTeX_envs_menu_present": true,
   "autoclose": false,
   "autocomplete": true,
   "bibliofile": "biblio.bib",
   "cite_by": "apalike",
   "current_citInitial": 1,
   "eqLabelWithNumbers": true,
   "eqNumInitial": 1,
   "hotkeys": {
    "equation": "Ctrl-E",
    "itemize": "Ctrl-I"
   },
   "labels_anchors": false,
   "latex_user_defs": false,
   "report_style_numbering": false,
   "user_envs_cfg": false
  },
  "nteract": {
   "version": "0.12.3"
  }
 },
 "nbformat": 4,
 "nbformat_minor": 2
}
